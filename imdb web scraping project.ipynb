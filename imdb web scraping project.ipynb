{
 "cells": [
  {
   "cell_type": "code",
   "execution_count": 2,
   "id": "34d1963f",
   "metadata": {},
   "outputs": [],
   "source": [
    "import requests\n",
    "from bs4 import BeautifulSoup"
   ]
  },
  {
   "cell_type": "code",
   "execution_count": 3,
   "id": "c1fc36f8",
   "metadata": {
    "scrolled": true
   },
   "outputs": [
    {
     "name": "stdout",
     "output_type": "stream",
     "text": [
      "Film Adı >> Top Gun: Maverick Tarih >> 2022 Rating >> 8.5\n",
      "Film Adı >> Nope Tarih >> 2022 Rating >> 7.1\n",
      "Film Adı >> Bullet Train Tarih >> 2022 Rating >> 7.5\n",
      "Film Adı >> Prey Tarih >> 2022 Rating >> 7.2\n",
      "Film Adı >> Orphan: First Kill Tarih >> 2022 Rating >> 6.0\n",
      "Film Adı >> Day Shift Tarih >> 2022 Rating >> 6.1\n",
      "Film Adı >> Samaritan Tarih >> 2022 Rating >> 5.8\n",
      "Film Adı >> Look Both Ways Tarih >> 2022 Rating >> 6.3\n",
      "Film Adı >> Top Gun Tarih >> 1986 Rating >> 6.9\n",
      "Film Adı >> Elvis Tarih >> 2022 Rating >> 7.6\n",
      "Film Adı >> The Gray Man Tarih >> 2022 Rating >> 6.5\n",
      "Film Adı >> Thirteen Lives Tarih >> 2022 Rating >> 7.8\n",
      "Film Adı >> Beast Tarih >> 2022 Rating >> 5.9\n",
      "Film Adı >> 365 dni Tarih >> 2020 Rating >> 3.3\n",
      "Film Adı >> The Black Phone Tarih >> 2021 Rating >> 7.0\n",
      "Film Adı >> The Next 365 Days Tarih >> 2022 Rating >> 2.7\n",
      "Film Adı >> Me Time Tarih >> 2022 Rating >> 5.0\n",
      "Film Adı >> Doragon bôru sûpâ: Sûpâ hîrô Tarih >> 2022 Rating >> 7.3\n",
      "Film Adı >> DC League of Super-Pets Tarih >> 2022 Rating >> 7.6\n",
      "Film Adı >> Orphan Tarih >> 2009 Rating >> 7.0\n",
      "Film Adı >> Where the Crawdads Sing Tarih >> 2022 Rating >> 7.1\n",
      "Film Adı >> Thor: Love and Thunder Tarih >> 2022 Rating >> 6.7\n",
      "Film Adı >> Three Thousand Years of Longing Tarih >> 2022 Rating >> 6.9\n",
      "Film Adı >> Pinocchio Tarih >> 2022 Rating >> \n",
      "Film Adı >> The Invitation Tarih >> 2022 Rating >> 5.3\n",
      "Film Adı >> Everything Everywhere All at Once Tarih >> 2022 Rating >> 8.2\n",
      "Film Adı >> Bodies Bodies Bodies Tarih >> 2022 Rating >> 6.7\n",
      "Film Adı >> Purple Hearts Tarih >> 2022 Rating >> 6.7\n",
      "Film Adı >> Jurassic World Dominion Tarih >> 2022 Rating >> 5.7\n",
      "Film Adı >> Don't Worry Darling Tarih >> 2022 Rating >> \n",
      "Film Adı >> Fall Tarih >> 2022 Rating >> 6.4\n",
      "Film Adı >> Uncharted Tarih >> 2022 Rating >> 6.3\n",
      "Film Adı >> Liger Tarih >> 2022 Rating >> 3.1\n",
      "Film Adı >> X Tarih >> 2022 Rating >> 6.6\n",
      "Film Adı >> Vengeance Tarih >> 2022 Rating >> 6.8\n",
      "Film Adı >> 365 Days: This Day Tarih >> 2022 Rating >> 2.6\n",
      "Film Adı >> Lightyear Tarih >> 2022 Rating >> 5.9\n",
      "Film Adı >> Laal Singh Chaddha Tarih >> 2022 Rating >> 5.0\n",
      "Film Adı >> The Batman Tarih >> 2022 Rating >> 7.9\n",
      "Film Adı >> The Lost City Tarih >> 2022 Rating >> 6.1\n",
      "Film Adı >> Licorice Pizza Tarih >> 2021 Rating >> 7.2\n",
      "Film Adı >> The Northman Tarih >> 2022 Rating >> 7.1\n",
      "Film Adı >> Spin Me Round Tarih >> 2022 Rating >> 5.1\n",
      "Film Adı >> Avatar: The Way of Water Tarih >> 2022 Rating >> \n",
      "Film Adı >> White Noise Tarih >> 2022 Rating >> 6.6\n",
      "Film Adı >> Spider-Man: No Way Home Tarih >> 2021 Rating >> 8.3\n",
      "Film Adı >> The Godfather Tarih >> 1972 Rating >> 9.2\n",
      "Film Adı >> Hagane no Renkinjutsushi: Kanketsu-hen - Fukushusha Scar Tarih >> 2022 Rating >> 5.3\n",
      "Film Adı >> Lou Tarih >> 2022 Rating >> \n",
      "Film Adı >> Doctor Strange in the Multiverse of Madness Tarih >> 2022 Rating >> 7.0\n",
      "Film Adı >> The Immaculate Room Tarih >> 2022 Rating >> 4.6\n",
      "Film Adı >> Sing 2 Tarih >> 2021 Rating >> 7.4\n",
      "Film Adı >> Luck Tarih >> 2022 Rating >> 6.3\n",
      "Film Adı >> After Ever Happy Tarih >> 2022 Rating >> 4.4\n",
      "Film Adı >> The Shawshank Redemption Tarih >> 1994 Rating >> 9.3\n",
      "Film Adı >> Minions: The Rise of Gru Tarih >> 2022 Rating >> 6.6\n",
      "Film Adı >> Glass Onion: A Knives Out Mystery Tarih >> 2022 Rating >> \n",
      "Film Adı >> The Lord of the Rings: The Fellowship of the Ring Tarih >> 2001 Rating >> 8.8\n",
      "Film Adı >> Ghostbusters: Afterlife Tarih >> 2021 Rating >> 7.1\n",
      "Film Adı >> Once Upon a Time in... Hollywood Tarih >> 2019 Rating >> 7.6\n",
      "Film Adı >> Grease Tarih >> 1978 Rating >> 7.2\n",
      "Film Adı >> Get Out Tarih >> 2017 Rating >> 7.7\n",
      "Film Adı >> Dune: Part One Tarih >> 2021 Rating >> 8.0\n",
      "Film Adı >> Predator Tarih >> 1987 Rating >> 7.8\n",
      "Film Adı >> Sherdil Tarih >> 2022 Rating >> 6.9\n",
      "Film Adı >> Glorious Tarih >> 2022 Rating >> 5.4\n",
      "Film Adı >> Barbie Tarih >> 2023 Rating >> \n",
      "Film Adı >> House of Gucci Tarih >> 2021 Rating >> 6.6\n",
      "Film Adı >> RRR (Rise Roar Revolt) Tarih >> 2022 Rating >> 8.0\n",
      "Film Adı >> Secret Headquarters Tarih >> 2022 Rating >> 4.9\n",
      "Film Adı >> A League of Their Own Tarih >> 1992 Rating >> 7.3\n",
      "Film Adı >> Untold: The Girlfriend Who Didn't Exist Tarih >> 2022 Rating >> 7.2\n",
      "Film Adı >> Midsommar Tarih >> 2019 Rating >> 7.1\n",
      "Film Adı >> Royalteen Tarih >> 2022 Rating >> 5.3\n",
      "Film Adı >> The Incredible Hulk Tarih >> 2008 Rating >> 6.6\n",
      "Film Adı >> Karthikeya 2 Tarih >> 2022 Rating >> 8.3\n",
      "Film Adı >> Death on the Nile Tarih >> 2022 Rating >> 6.3\n",
      "Film Adı >> 892 Tarih >> 2022 Rating >> 6.6\n",
      "Film Adı >> Love Tarih >> 2015 Rating >> 6.0\n",
      "Film Adı >> Interstellar Tarih >> 2014 Rating >> 8.6\n",
      "Film Adı >> The Nice Guys Tarih >> 2016 Rating >> 7.3\n",
      "Film Adı >> Memory Tarih >> 2022 Rating >> 5.6\n",
      "Film Adı >> Emily the Criminal Tarih >> 2022 Rating >> 7.1\n",
      "Film Adı >> Harry Potter and the Sorcerer's Stone Tarih >> 2001 Rating >> 7.6\n",
      "Film Adı >> The Unbearable Weight of Massive Talent Tarih >> 2022 Rating >> 7.0\n",
      "Film Adı >> The Mummy Tarih >> 2017 Rating >> 5.4\n",
      "Film Adı >> Pulp Fiction Tarih >> 1994 Rating >> 8.9\n",
      "Film Adı >> The Predator Tarih >> 2018 Rating >> 5.3\n",
      "Film Adı >> Last Night in Soho Tarih >> 2021 Rating >> 7.1\n",
      "Film Adı >> Fantastic Beasts: The Secrets of Dumbledore Tarih >> 2022 Rating >> 6.2\n",
      "Film Adı >> The Dark Knight Tarih >> 2008 Rating >> 9.0\n",
      "Film Adı >> Belfast Tarih >> 2021 Rating >> 7.3\n",
      "Film Adı >> Shamshera Tarih >> 2022 Rating >> 4.9\n",
      "Film Adı >> The Wolf of Wall Street Tarih >> 2013 Rating >> 8.2\n",
      "Film Adı >> Avengers: Endgame Tarih >> 2019 Rating >> 8.4\n",
      "Film Adı >> Crimes of the Future Tarih >> 2022 Rating >> 5.9\n",
      "Film Adı >> They/Them Tarih >> 2022 Rating >> 3.5\n",
      "Film Adı >> No Time to Die Tarih >> 2021 Rating >> 7.3\n",
      "Film Adı >> The Greatest Beer Run Ever Tarih >> 2022 Rating >> \n",
      "Film Adı >> Heat Tarih >> 1995 Rating >> 8.3\n"
     ]
    }
   ],
   "source": [
    "url = 'https://www.imdb.com/chart/moviemeter/'\n",
    "reqs = requests.get(url)\n",
    "soup = BeautifulSoup(reqs.text, \"html.parser\")\n",
    "\n",
    "list = soup.find(\"tbody\", {\"class\":\"lister-list\"}).find_all(\"tr\")\n",
    "\n",
    "for film in list:\n",
    "    name = film.find(\"td\", {\"class\":\"titleColumn\"}).a.text # a kodun içerisindeki bölüm, text ise içerik\n",
    "    tarih = film.find(\"td\", {\"class\":\"titleColumn\"}).span.text.strip(\"()\") #strip parantezleri kaldırır.\n",
    "    rating = film.find(\"td\", {\"class\":\"ratingColumn imdbRating\"}).text.strip()\n",
    "    print(f\"Film Adı >> {name} Tarih >> {tarih} Rating >> {rating}\")"
   ]
  },
  {
   "cell_type": "code",
   "execution_count": null,
   "id": "e63cbdc1",
   "metadata": {},
   "outputs": [],
   "source": []
  },
  {
   "cell_type": "code",
   "execution_count": null,
   "id": "38080610",
   "metadata": {},
   "outputs": [],
   "source": []
  },
  {
   "cell_type": "code",
   "execution_count": null,
   "id": "10304cdc",
   "metadata": {},
   "outputs": [],
   "source": []
  },
  {
   "cell_type": "code",
   "execution_count": null,
   "id": "fdaf858b",
   "metadata": {},
   "outputs": [],
   "source": []
  },
  {
   "cell_type": "code",
   "execution_count": null,
   "id": "c570572e",
   "metadata": {},
   "outputs": [],
   "source": []
  },
  {
   "cell_type": "code",
   "execution_count": null,
   "id": "35e998b1",
   "metadata": {},
   "outputs": [],
   "source": []
  },
  {
   "cell_type": "code",
   "execution_count": null,
   "id": "4ae24f19",
   "metadata": {},
   "outputs": [],
   "source": []
  },
  {
   "cell_type": "code",
   "execution_count": null,
   "id": "c8305296",
   "metadata": {},
   "outputs": [],
   "source": []
  },
  {
   "cell_type": "code",
   "execution_count": null,
   "id": "bb5083fd",
   "metadata": {},
   "outputs": [],
   "source": []
  },
  {
   "cell_type": "code",
   "execution_count": null,
   "id": "b930a1ec",
   "metadata": {},
   "outputs": [],
   "source": []
  },
  {
   "cell_type": "code",
   "execution_count": null,
   "id": "98128692",
   "metadata": {},
   "outputs": [],
   "source": []
  },
  {
   "cell_type": "code",
   "execution_count": null,
   "id": "9c8d1cc0",
   "metadata": {},
   "outputs": [],
   "source": []
  },
  {
   "cell_type": "code",
   "execution_count": null,
   "id": "2e4cf86c",
   "metadata": {},
   "outputs": [],
   "source": []
  },
  {
   "cell_type": "code",
   "execution_count": null,
   "id": "f6f5e6e8",
   "metadata": {},
   "outputs": [],
   "source": []
  },
  {
   "cell_type": "code",
   "execution_count": null,
   "id": "414ec9e0",
   "metadata": {},
   "outputs": [],
   "source": []
  },
  {
   "cell_type": "code",
   "execution_count": null,
   "id": "4042404e",
   "metadata": {},
   "outputs": [],
   "source": []
  },
  {
   "cell_type": "code",
   "execution_count": null,
   "id": "550a8e29",
   "metadata": {},
   "outputs": [],
   "source": []
  },
  {
   "cell_type": "code",
   "execution_count": null,
   "id": "8ee9820b",
   "metadata": {},
   "outputs": [],
   "source": []
  },
  {
   "cell_type": "code",
   "execution_count": null,
   "id": "f1d797de",
   "metadata": {},
   "outputs": [],
   "source": []
  },
  {
   "cell_type": "code",
   "execution_count": null,
   "id": "421fbc25",
   "metadata": {},
   "outputs": [],
   "source": []
  },
  {
   "cell_type": "code",
   "execution_count": null,
   "id": "ac5d1f4b",
   "metadata": {},
   "outputs": [],
   "source": []
  },
  {
   "cell_type": "code",
   "execution_count": null,
   "id": "96e4c647",
   "metadata": {},
   "outputs": [],
   "source": []
  },
  {
   "cell_type": "code",
   "execution_count": null,
   "id": "d44f730d",
   "metadata": {},
   "outputs": [],
   "source": []
  },
  {
   "cell_type": "code",
   "execution_count": null,
   "id": "23aa8c00",
   "metadata": {},
   "outputs": [],
   "source": []
  },
  {
   "cell_type": "code",
   "execution_count": null,
   "id": "6403f346",
   "metadata": {},
   "outputs": [],
   "source": []
  },
  {
   "cell_type": "code",
   "execution_count": null,
   "id": "50062414",
   "metadata": {},
   "outputs": [],
   "source": []
  },
  {
   "cell_type": "code",
   "execution_count": null,
   "id": "4c014de1",
   "metadata": {},
   "outputs": [],
   "source": []
  }
 ],
 "metadata": {
  "kernelspec": {
   "display_name": "Python 3 (ipykernel)",
   "language": "python",
   "name": "python3"
  },
  "language_info": {
   "codemirror_mode": {
    "name": "ipython",
    "version": 3
   },
   "file_extension": ".py",
   "mimetype": "text/x-python",
   "name": "python",
   "nbconvert_exporter": "python",
   "pygments_lexer": "ipython3",
   "version": "3.9.7"
  }
 },
 "nbformat": 4,
 "nbformat_minor": 5
}
